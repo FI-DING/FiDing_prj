{
 "cells": [
  {
   "cell_type": "code",
   "execution_count": null,
   "id": "cccb83b9",
   "metadata": {},
   "outputs": [],
   "source": [
    "import pandas as pd"
   ]
  },
  {
   "cell_type": "code",
   "execution_count": null,
   "id": "ea4fd9dc",
   "metadata": {},
   "outputs": [],
   "source": [
    "data = pd.read_csv('owid-covid-data.csv')\n",
    "data"
   ]
  },
  {
   "cell_type": "code",
   "execution_count": null,
   "id": "99ce5f62",
   "metadata": {},
   "outputs": [],
   "source": [
    "# grouped = df.groupby('country')\n",
    "\n",
    "# for country, group in grouped:\n",
    "#     filename = f'{country}.csv'\n",
    "#     group.to_csv(filename, index=False)"
   ]
  },
  {
   "cell_type": "code",
   "execution_count": null,
   "id": "aaeb5a2e",
   "metadata": {
    "scrolled": true
   },
   "outputs": [],
   "source": [
    "data['total_cases']"
   ]
  },
  {
   "cell_type": "code",
   "execution_count": null,
   "id": "dfbc7da4",
   "metadata": {},
   "outputs": [],
   "source": [
    "WEU = [\n",
    "    'Andorra',\n",
    "    'Austria',\n",
    "    'Belgium',\n",
    "    'England',\n",
    "    'France',\n",
    "    'Guernsey',\n",
    "    'Iceland',\n",
    "    'Ireland',\n",
    "    'Isle of Man',\n",
    "    'Italy',\n",
    "    'Jersey',\n",
    "    'Luxembourg',\n",
    "    'Netherlands',\n",
    "    'Poland',\n",
    "    'Portugal',\n",
    "    'Scotland',\n",
    "    'Spain',\n",
    "    'Sweden',\n",
    "    'United Kingdom',\n",
    "    'Wales']"
   ]
  },
  {
   "cell_type": "code",
   "execution_count": null,
   "id": "8349b8af",
   "metadata": {},
   "outputs": [],
   "source": [
    "pd.DataFrame(columns=[\"date\", \"loc\", \"total_cases\",'total_deaths','people_vaccinated'])"
   ]
  },
  {
   "cell_type": "code",
   "execution_count": null,
   "id": "d087aa7f",
   "metadata": {},
   "outputs": [],
   "source": [
    "def column_sum(key,column_name,group):\n",
    "    group[column_name].sum()"
   ]
  },
  {
   "cell_type": "code",
   "execution_count": null,
   "id": "2847b995",
   "metadata": {},
   "outputs": [],
   "source": [
    "MAS = ['Afghanistan','Bahrain','Kuwait','Saudi Arabia',]\n",
    "KOR = ['South Korea']\n",
    "JPN = ['Japan']\n",
    "CHN = ['China']\n",
    "HKO = ['Hong Kong']\n",
    "ASIA = ['Armenia','Azerbaijan','Bangladesh','Bhutan','Brunei','Cambodia','Georgia','India','Indonesia','Iran','Iraq','Israel','Jordan',\n",
    "      'Kazakhstan','Kyrgyzstan','Laos','Lebanon','Macao','Malaysia','Maldives','Myanmar','Nepal','Northern Cyprus','Oman','Pakistan',\n",
    "      'Palestine','Philippines','Qatar','Singapore','Sri Lanka','Syria','Taiwan','Tajikistan','United Arab Emirates','Uzbekistan','Vietnam','Yemen']\n",
    "# 중동,한국,일본,중국,홍콩을 제외한 나라는 아시아로 통합하여 분류하였고 \n",
    "#중국에 속하지만 마카오는 아시아로 분류함\n",
    "DATA_LIST=['USA','NAM','KOR','SAM','JPN','CHN','RSI','EEU','WEU','MAS','AUS','AFR','SAF','HKO','ASIA']\n",
    "data_dict={i:pd.DataFrame(columns=[\"date\", \"loc\", \"total_cases\",'total_deaths','people_vaccinated']) for i in DATA_LIST}\n",
    "for date , date_group in data.groupby('date'):\n",
    "    if date[-2:]=='01':\n",
    "        DATA_LIST2=['USA','NAM','KOR','SAM','JPN','CHN','RSI','EEU','WEU','MAS','AUS','AFR','SAF','HKO','ASIA']\n",
    "        data_dict2={i:pd.DataFrame({}) for i in DATA_LIST}\n",
    "        for continent, continent_group in date_group.groupby('continent'):\n",
    "            for location,location_group in continent_group.groupby('location'):\n",
    "               \n",
    "                if continent=='Africa':\n",
    "                    if location=='South Africa':\n",
    "                        data_dict2['SAF']=pd.concat([data_dict2.get('SAF',pd.DataFrame({})),location_group]) \n",
    "                    else:\n",
    "                        data_dict2['AFR']=pd.concat([data_dict2.get('AFR',pd.DataFrame({})),location_group])\n",
    "                elif continent=='Asia':\n",
    "                    if location=='South Korea':\n",
    "                        data_dict2['KOR']=pd.concat([data_dict2.get('KOR',pd.DataFrame({})),location_group])\n",
    "\n",
    "                    elif location=='Japan':\n",
    "                        data_dict2['JPN']=pd.concat([data_dict2.get('JPN',pd.DataFrame({})),location_group])\n",
    "\n",
    "                    elif location in MAS:\n",
    "                        data_dict2['MAS']=pd.concat([data_dict2.get('MAS',pd.DataFrame({})),location_group])\n",
    "\n",
    "                    elif location=='China':\n",
    "                        data_dict2['CHN']=pd.concat([data_dict2.get('CHN',pd.DataFrame({})),location_group])\n",
    "\n",
    "                    elif location=='Hong Kong':\n",
    "                        data_dict2['HKO']=pd.concat([data_dict2.get('HKO',pd.DataFrame({})),location_group])\n",
    "\n",
    "                    else:\n",
    "                        data_dict2['ASIA']=pd.concat([data_dict2.get('ASIA',pd.DataFrame({})),location_group])\n",
    "\n",
    "                elif continent=='Europe':\n",
    "                    if location=='Russia':\n",
    "                        data_dict2['RSI']=pd.concat([data_dict2.get('RSI',pd.DataFrame({})),location_group])\n",
    "                    elif location in WEU:\n",
    "                        data_dict2['WEU']=pd.concat([data_dict2.get('WEU',pd.DataFrame({})),location_group])\n",
    "                    else:\n",
    "                        data_dict2['EEU']=pd.concat([data_dict2.get('EEU',pd.DataFrame({})),location_group])\n",
    "                    pass\n",
    "                elif continent=='North America':\n",
    "                    if location=='United States':\n",
    "                        data_dict2['USA']=pd.concat([data_dict2.get('USA',pd.DataFrame({})),location_group])\n",
    "                    else:\n",
    "                        data_dict2['NAM']=pd.concat([data_dict2.get('NAM',pd.DataFrame({})),location_group])\n",
    "                elif continent=='Oceania':\n",
    "                    data_dict2['AUS']=pd.concat([data_dict2.get('AUS',pd.DataFrame({})),location_group])\n",
    "\n",
    "                elif continent=='South America':\n",
    "                    data_dict2['SAM']=pd.concat([data_dict2.get('SAM',pd.DataFrame({})),location_group])\n",
    "\n",
    "        for loc, dp in data_dict2.items():\n",
    "            data_dict[loc].append({'date':date,'loc':loc,'total_cases':dp['total_cases'].sum(),'total_deaths':dp['total_deaths'].sum(),'people_vaccinated':dp['people_vaccinated'].sum()})  \n",
    "#data_dict[loc]가 dataframe 어팬드안에 있는 행을 추가하면 됨\n",
    "data_dict['USA']"
   ]
  },
  {
   "cell_type": "code",
   "execution_count": null,
   "id": "c94e779c",
   "metadata": {
    "scrolled": false
   },
   "outputs": [],
   "source": [
    "for dp in data_dict2.values():\n",
    "    if 'total_cases' in dp:\n",
    "        print(dp['total_cases'].sum())\n",
    "    else:\n",
    "        pass"
   ]
  },
  {
   "cell_type": "code",
   "execution_count": null,
   "id": "38116c55",
   "metadata": {},
   "outputs": [],
   "source": [
    "data_dict['USA']"
   ]
  },
  {
   "cell_type": "code",
   "execution_count": null,
   "id": "05dc6b93",
   "metadata": {},
   "outputs": [],
   "source": [
    "for date,date_grouped in data.groupby('date'):\n",
    "    print(date[-2:])"
   ]
  },
  {
   "cell_type": "code",
   "execution_count": null,
   "id": "33ccc353",
   "metadata": {},
   "outputs": [],
   "source": [
    "for key, value in data_dict.items():\n",
    "    for date,date_grouped in value.groupby('date'):\n",
    "        if date[-2:]=='01'\n"
   ]
  },
  {
   "cell_type": "code",
   "execution_count": null,
   "id": "705829aa",
   "metadata": {},
   "outputs": [],
   "source": [
    "for key, value in data_dict.items():\n",
    "    filename = f'country/{key}.csv'\n",
    "    value.to_csv(filename, index=False)"
   ]
  },
  {
   "cell_type": "code",
   "execution_count": null,
   "id": "a1cfd17b",
   "metadata": {},
   "outputs": [],
   "source": [
    "grouped = data.groupby('continent')\n",
    "am={}\n",
    "cnt=0\n",
    "list_=\n",
    "for country, group in grouped:\n",
    "    filename = f'country/{country}.csv'\n",
    "    group.to_csv(filename, index=False)\n",
    "    list_.append(country)\n",
    "    cnt+=1\n",
    "print(cnt)"
   ]
  },
  {
   "cell_type": "code",
   "execution_count": null,
   "id": "b48bc0ab",
   "metadata": {},
   "outputs": [],
   "source": [
    "america=['Afghanistan',\n",
    " 'Africa',\n",
    " 'Albania',\n",
    " 'Algeria',\n",
    " 'American Samoa']"
   ]
  },
  {
   "cell_type": "code",
   "execution_count": null,
   "id": "7bfddeb7",
   "metadata": {},
   "outputs": [],
   "source": [
    "countries = [\n",
    "    'Albania', 'Algeria', 'American Samoa', 'Andorra', 'Angola', 'Anguilla', 'Antigua and Barbuda',\n",
    "    'Argentina', 'Armenia', 'Aruba', 'Asia', 'Australia', 'Austria', 'Azerbaijan', 'Bahamas',\n",
    "    'Bahrain', 'Bangladesh', 'Barbados', 'Belarus', 'Belgium', 'Belize', 'Benin', 'Bermuda',\n",
    "    'Bhutan', 'Bolivia', 'Bonaire Sint Eustatius and Saba', 'Bosnia and Herzegovina', 'Botswana',\n",
    "    'Brazil', 'British Virgin Islands', 'Brunei', 'Bulgaria', 'Burkina Faso', 'Burundi', 'Cambodia',\n",
    "    'Cameroon', 'Canada', 'Cape Verde', 'Cayman Islands', 'Central African Republic', 'Chad', 'Chile',\n",
    "    'China', 'Colombia', 'Comoros', 'Congo', 'Cook Islands', 'Costa Rica', \"Cote d'Ivoire\", 'Croatia',\n",
    "    'Cuba', 'Curacao', 'Cyprus', 'Czechia', 'Democratic Republic of Congo', 'Denmark', 'Djibouti',\n",
    "    'Dominica', 'Dominican Republic', 'Ecuador', 'Egypt', 'El Salvador', 'England', 'Equatorial Guinea',\n",
    "    'Eritrea', 'Estonia', 'Eswatini', 'Ethiopia', 'Europe', 'European Union', 'Faeroe Islands',\n",
    "    'Falkland Islands', 'Fiji', 'Finland', 'France', 'French Guiana', 'French Polynesia', 'Gabon',\n",
    "    'Gambia', 'Georgia', 'Germany', 'Ghana', 'Gibraltar', 'Greece', 'Greenland', 'Grenada',\n",
    "    'Guadeloupe', 'Guam', 'Guatemala', 'Guernsey', 'Guinea', 'Guinea-Bissau', 'Guyana', 'Haiti',\n",
    "    'High income', 'Honduras', 'Hong Kong', 'Hungary', 'Iceland', 'India', 'Indonesia', 'Iran',\n",
    "    'Iraq', 'Ireland', 'Isle of Man', 'Israel', 'Italy', 'Jamaica', 'Japan', 'Jersey', 'Jordan',\n",
    "    'Kazakhstan', 'Kenya', 'Kiribati', 'Kosovo', 'Kuwait', 'Kyrgyzstan', 'Laos', 'Latvia', 'Lebanon',\n",
    "    'Lesotho', 'Liberia', 'Libya', 'Liechtenstein', 'Lithuania', 'Low income', 'Lower middle income',\n",
    "    'Luxembourg', 'Macao', 'Madagascar', 'Malawi', 'Malaysia', 'Maldives', 'Mali', 'Malta',\n",
    "    'Marshall Islands', 'Martinique', 'Mauritania', 'Mauritius', 'Mayotte', 'Mexico', 'Micronesia (country)',\n",
    "    'Moldova', 'Monaco', 'Mon', 'Mongolia', 'Montenegro', 'Montserrat', 'Morocco', 'Mozambique', 'Myanmar',\n",
    "    'Namibia', 'Nauru', 'Nepal', 'Netherlands', 'New Caledonia', 'New Zealand', 'Nicaragua', 'Niger',\n",
    "    'Nigeria', 'Niue', 'North America', 'North Korea', 'North Macedonia', 'Northern Cyprus',\n",
    "    'Northern Ireland', 'Northern Mariana Islands', 'Norway', 'Oceania', 'Oman', 'Pakistan', 'Palau',\n",
    "    'Palestine', 'Panama', 'Papua New Guinea', 'Paraguay', 'Peru', 'Philippines', 'Pitcairn', 'Poland',\n",
    "    'Portugal', 'Puerto Rico', 'Qatar', 'Reunion', 'Romania', 'Russia', 'Rwanda', 'Saint Barthelemy',\n",
    "    'Saint Helena', 'Saint Kitts and Nevis', 'Saint Lucia', 'Saint Martin (French part)',\n",
    "    'Saint Pierre and Miquelon', 'Saint Vincent and the Grenadines', 'Samoa', 'San Marino',\n",
    "    'Sao Tome and Principe', 'Saudi Arabia', 'Scotland', 'Senegal', 'Serbia', 'Seychelles',\n",
    "    'Sierra Leone', 'Singapore', 'Sint Maarten (Dutch part)', 'Slovakia', 'Slovenia', 'Solomon Islands',\n",
    "    'Somalia', 'South Africa', 'South America', 'South Korea', 'South Sudan', 'Spain', 'Sri Lanka',\n",
    "    'Sudan', 'Suriname', 'Sweden', 'Switzerland', 'Syria', 'Taiwan', 'Tajikistan', 'Tanzania',\n",
    "    'Thailand', 'Timor', 'Togo', 'Tokelau', 'Tonga', 'Trinidad and Tobago', 'Tunisia', 'Turkey',\n",
    "    'Turkmenistan', 'Turks and Caicos Islands', 'Tuvalu', 'Uganda', 'Ukraine', 'United Arab Emirates',\n",
    "    'United Kingdom', 'United States', 'United States Virgin Islands', 'Upper middle income', 'Uruguay',\n",
    "    'Uzbekistan', 'Vanuatu', 'Vatican', 'Venezuela', 'Vietnam', 'Wales', 'Wallis and Futuna',\n",
    "    'Western Sahara', 'World', 'Yemen', 'Zambia', 'Zimbabwe'\n",
    "]\n",
    "len(countries)"
   ]
  },
  {
   "cell_type": "code",
   "execution_count": null,
   "id": "baaa6ef6",
   "metadata": {
    "scrolled": true
   },
   "outputs": [],
   "source": [
    "countries[129:193]"
   ]
  },
  {
   "cell_type": "code",
   "execution_count": null,
   "id": "f6ae6aba",
   "metadata": {},
   "outputs": [],
   "source": [
    "for date , date_group in data.groupby('date'):\n",
    "    if date[-2:]=='01':\n",
    "        DATA_LIST2=['USA','NAM','KOR','SAM','JPN','CHN','RSI','EEU','WEU','MAS','AUS','AFR','SAF','HKO','ASIA']\n",
    "        data_dict2={i:pd.DataFrame({}) for i in DATA_LIST}\n",
    "        for continent, continent_group in date_group.groupby('continent'):\n",
    "            for location,location_group in continent_group.groupby('location'):\n",
    "                if continent=='Africa':\n",
    "                    if location=='South Africa':\n",
    "                        data_dict2['SAF']=pd.concat([data_dict2.get('SAF',pd.DataFrame({})),location_group]) \n",
    "                    else:\n",
    "                        data_dict2['AFR']=pd.concat([data_dict2.get('AFR',pd.DataFrame({})),location_group])\n",
    "                elif continent=='Asia':\n",
    "                    if location=='South Korea':\n",
    "                        data_dict2['KOR']=pd.concat([data_dict2.get('KOR',pd.DataFrame({})),location_group])\n",
    "                    elif location=='Japan':\n",
    "                        data_dict2['JPN']=pd.concat([data_dict2.get('JPN',pd.DataFrame({})),location_group])\n",
    "                    elif location in MAS:\n",
    "                        data_dict2['MAS']=pd.concat([data_dict2.get('MAS',pd.DataFrame({})),location_group])\n",
    "                    elif location=='China':\n",
    "                        data_dict2['CHN']=pd.concat([data_dict2.get('CHN',pd.DataFrame({})),location_group])\n",
    "                    elif location=='Hong Kong':\n",
    "                        data_dict2['HKO']=pd.concat([data_dict2.get('HKO',pd.DataFrame({})),location_group])\n",
    "                    else:\n",
    "                        data_dict2['ASIA']=pd.concat([data_dict2.get('ASIA',pd.DataFrame({})),location_group])\n",
    "                elif continent=='Europe':\n",
    "                    if location=='Russia':\n",
    "                        data_dict2['RSI']=pd.concat([data_dict2.get('RSI',pd.DataFrame({})),location_group])\n",
    "                    elif location in WEU:\n",
    "                        data_dict2['WEU']=pd.concat([data_dict2.get('WEU',pd.DataFrame({})),location_group])\n",
    "                    else:\n",
    "                        data_dict2['EEU']=pd.concat([data_dict2.get('EEU',pd.DataFrame({})),location_group])\n",
    "                    pass\n",
    "                elif continent=='North America':\n",
    "                    if location=='United States':\n",
    "                        data_dict2['USA']=pd.concat([data_dict2.get('USA',pd.DataFrame({})),location_group])\n",
    "                    else:\n",
    "                        data_dict2['NAM']=pd.concat([data_dict2.get('NAM',pd.DataFrame({})),location_group])\n",
    "                elif continent=='Oceania':\n",
    "                    data_dict2['AUS']=pd.concat([data_dict2.get('AUS',pd.DataFrame({})),location_group])\n",
    "                elif continent=='South America':\n",
    "                    data_dict2['SAM']=pd.concat([data_dict2.get('SAM',pd.DataFrame({})),location_group])\n",
    "\n",
    "        for loc, dp in data_dict2.items():\n",
    "            try:\n",
    "                data_dict[loc] = pd.concat([data_dict.get(loc, pd.DataFrame({})),\n",
    "                               pd.DataFrame({'date': [date], 'loc': [loc], 'total_cases': [dp['total_cases'].sum()], 'total_deaths': [dp['total_deaths'].sum()], 'people_vaccinated': [dp['people_vaccinated'].sum()]})])\n",
    "                filename = f'country/{loc}.csv'\n",
    "                data_dict[loc].to_csv(filename, index=False)\n",
    "            except:\n",
    "                pass"
   ]
  }
 ],
 "metadata": {
  "kernelspec": {
   "display_name": "Python 3 (ipykernel)",
   "language": "python",
   "name": "python3"
  },
  "language_info": {
   "codemirror_mode": {
    "name": "ipython",
    "version": 3
   },
   "file_extension": ".py",
   "mimetype": "text/x-python",
   "name": "python",
   "nbconvert_exporter": "python",
   "pygments_lexer": "ipython3",
   "version": "3.11.3"
  }
 },
 "nbformat": 4,
 "nbformat_minor": 5
}
